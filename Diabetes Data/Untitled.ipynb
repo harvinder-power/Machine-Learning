{
 "cells": [
  {
   "cell_type": "code",
   "execution_count": 9,
   "metadata": {},
   "outputs": [
    {
     "name": "stdout",
     "output_type": "stream",
     "text": [
      "Which file should I analyse? : /Users/harvinderpower/Projects/machine-learning/Diabetes Data/diabetes.csv\n",
      "What is the starting column number? : 1\n",
      "What is the last column number? : 8\n",
      "What column should I use as the outcome? : Outcome\n",
      "                      Accuracy\n",
      "Linear SVM            0.786458\n",
      "Radial SVM            0.651042\n",
      "Logistic Regression   0.781250\n",
      "K Nearest Neighbours  0.755208\n",
      "Decision Tree         0.734375\n",
      "The best model for this was: Logistic Regression\n"
     ]
    }
   ],
   "source": [
    "import sys\n",
    "import os\n",
    "import numpy as np # linear algebra\n",
    "import pandas as pd # data processing, CSV file I/O (e.g. pd.read_csv), data manipulation as in SQL\n",
    "import matplotlib.pyplot as plt # this is used for the plot the graph\n",
    "import seaborn as sns # used for plot interactive graph. I like it most for plot\n",
    "from sklearn.linear_model import LogisticRegression # to apply the Logistic regression\n",
    "from sklearn.model_selection import train_test_split # to split the data into two parts\n",
    "from sklearn.cross_validation import KFold # use for cross validation\n",
    "from sklearn.model_selection import GridSearchCV# for tuning parameter\n",
    "from sklearn.ensemble import RandomForestClassifier # for random forest classifier\n",
    "from sklearn.naive_bayes import GaussianNB\n",
    "from sklearn.neighbors import KNeighborsClassifier\n",
    "from sklearn.tree import DecisionTreeClassifier\n",
    "from sklearn import svm # for Support Vector Machine\n",
    "from sklearn import metrics # for the check the error and accuracy of the model\n",
    "# Any results you write to the current directory are saved as output.\n",
    "# dont worry about the error if its not working then insteda of model_selection we can use cross_validation\n",
    "\n",
    "#Locations of data and which features you want to analyse\n",
    "data = pd.read_csv(raw_input(\"Which file should I analyse? : \"))\n",
    "first_column = int(raw_input(\"What is the starting column number? : \"))\n",
    "last_column = int(raw_input(\"What is the last column number? : \"))\n",
    "outcome = raw_input('What column should I use as the outcome? : ')\n",
    "\n",
    "features = list(data.columns[first_column:last_column])\n",
    "#Setting up the variables for training and testing\n",
    "train,test = train_test_split(data, test_size=0.25, random_state = 0, stratify = data[outcome])\n",
    "train_x = train[train.columns[first_column:last_column]]\n",
    "test_x = test[test.columns[first_column:last_column]]\n",
    "test_y = test[outcome]\n",
    "train_y = train[outcome]\n",
    "\n",
    "comparison_table = []\n",
    "classifiers = ['Linear SVM', 'Radial SVM', 'Logistic Regression', 'K Nearest Neighbours', 'Decision Tree']\n",
    "models = [svm.SVC(kernel = 'linear'), svm.SVC(kernel = 'rbf'), LogisticRegression(), KNeighborsClassifier(n_neighbors=3), DecisionTreeClassifier()]\n",
    "\n",
    "def function_comparator():\n",
    "    for i in models:\n",
    "        model = i\n",
    "        model.fit(train_x, train_y)\n",
    "        prediction = model.predict(test_x)\n",
    "        comparison_table.append(metrics.accuracy_score(prediction, test_y))\n",
    "    best_model = classifiers[np.argmax(prediction)]\n",
    "    models_dataframe = pd.DataFrame(comparison_table, index = classifiers)\n",
    "    models_dataframe.columns=['Accuracy']\n",
    "    print models_dataframe\n",
    "    print \"The best model for this was:\", best_model\n",
    "\n",
    "function_comparator()\n"
   ]
  },
  {
   "cell_type": "code",
   "execution_count": 10,
   "metadata": {},
   "outputs": [
    {
     "name": "stdout",
     "output_type": "stream",
     "text": [
      "Which file should I analyse? : /Users/harvinderpower/Projects/machine-learning/Breast Cancer/data.csv\n",
      "What is the starting column number? : 3\n",
      "What is the last column number? : 12\n",
      "What column should I use as the outcome? : diagnosis\n",
      "                      Accuracy\n",
      "Linear SVM            0.930070\n",
      "Radial SVM            0.706294\n",
      "Logistic Regression   0.923077\n",
      "K Nearest Neighbours  0.909091\n",
      "Decision Tree         0.916084\n",
      "The best model for this was: Linear SVM\n"
     ]
    }
   ],
   "source": [
    "import sys\n",
    "import os\n",
    "import numpy as np # linear algebra\n",
    "import pandas as pd # data processing, CSV file I/O (e.g. pd.read_csv), data manipulation as in SQL\n",
    "import matplotlib.pyplot as plt # this is used for the plot the graph\n",
    "import seaborn as sns # used for plot interactive graph. I like it most for plot\n",
    "from sklearn.linear_model import LogisticRegression # to apply the Logistic regression\n",
    "from sklearn.model_selection import train_test_split # to split the data into two parts\n",
    "from sklearn.cross_validation import KFold # use for cross validation\n",
    "from sklearn.model_selection import GridSearchCV# for tuning parameter\n",
    "from sklearn.ensemble import RandomForestClassifier # for random forest classifier\n",
    "from sklearn.naive_bayes import GaussianNB\n",
    "from sklearn.neighbors import KNeighborsClassifier\n",
    "from sklearn.tree import DecisionTreeClassifier\n",
    "from sklearn import svm # for Support Vector Machine\n",
    "from sklearn import metrics # for the check the error and accuracy of the model\n",
    "# Any results you write to the current directory are saved as output.\n",
    "# dont worry about the error if its not working then insteda of model_selection we can use cross_validation\n",
    "\n",
    "#Locations of data and which features you want to analyse\n",
    "data = pd.read_csv(raw_input(\"Which file should I analyse? : \"))\n",
    "first_column = int(raw_input(\"What is the starting column number? : \"))\n",
    "last_column = int(raw_input(\"What is the last column number? : \"))\n",
    "outcome = raw_input('What column should I use as the outcome? : ')\n",
    "\n",
    "features = list(data.columns[first_column:last_column])\n",
    "#Setting up the variables for training and testing\n",
    "train,test = train_test_split(data, test_size=0.25, random_state = 0, stratify = data[outcome])\n",
    "train_x = train[train.columns[first_column:last_column]]\n",
    "test_x = test[test.columns[first_column:last_column]]\n",
    "test_y = test[outcome]\n",
    "train_y = train[outcome]\n",
    "\n",
    "comparison_table = []\n",
    "classifiers = ['Linear SVM', 'Radial SVM', 'Logistic Regression', 'K Nearest Neighbours', 'Decision Tree']\n",
    "models = [svm.SVC(kernel = 'linear'), svm.SVC(kernel = 'rbf'), LogisticRegression(), KNeighborsClassifier(n_neighbors=3), DecisionTreeClassifier()]\n",
    "\n",
    "def function_comparator():\n",
    "    for i in models:\n",
    "        model = i\n",
    "        model.fit(train_x, train_y)\n",
    "        prediction = model.predict(test_x)\n",
    "        comparison_table.append(metrics.accuracy_score(prediction, test_y))\n",
    "    best_model = classifiers[np.argmax(prediction)]\n",
    "    models_dataframe = pd.DataFrame(comparison_table, index = classifiers)\n",
    "    models_dataframe.columns=['Accuracy']\n",
    "    print models_dataframe\n",
    "    print \"The best model for this was:\", best_model\n",
    "\n",
    "function_comparator()\n"
   ]
  },
  {
   "cell_type": "code",
   "execution_count": null,
   "metadata": {
    "collapsed": true
   },
   "outputs": [],
   "source": []
  }
 ],
 "metadata": {
  "kernelspec": {
   "display_name": "Python 2",
   "language": "python",
   "name": "python2"
  },
  "language_info": {
   "codemirror_mode": {
    "name": "ipython",
    "version": 2
   },
   "file_extension": ".py",
   "mimetype": "text/x-python",
   "name": "python",
   "nbconvert_exporter": "python",
   "pygments_lexer": "ipython2",
   "version": "2.7.13"
  }
 },
 "nbformat": 4,
 "nbformat_minor": 2
}
